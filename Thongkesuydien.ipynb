{
 "cells": [
  {
   "cell_type": "code",
   "execution_count": 1,
   "id": "0c778384-877f-4d7b-a961-86309af75cbf",
   "metadata": {
    "tags": []
   },
   "outputs": [],
   "source": [
    "import numpy as np\n",
    "import pandas as pd\n",
    "import matplotlib.pyplot as plt\n",
    "import plotly.express as px\n",
    "import seaborn as sns\n",
    "%matplotlib inline\n",
    "import warnings\n",
    "warnings.filterwarnings(\"ignore\")"
   ]
  },
  {
   "cell_type": "code",
   "execution_count": 2,
   "id": "9c1d246d-daa4-4ed7-ba77-cd1309a580f8",
   "metadata": {
    "jupyter": {
     "source_hidden": true
    },
    "tags": []
   },
   "outputs": [
    {
     "data": {
      "text/html": [
       "<div>\n",
       "<style scoped>\n",
       "    .dataframe tbody tr th:only-of-type {\n",
       "        vertical-align: middle;\n",
       "    }\n",
       "\n",
       "    .dataframe tbody tr th {\n",
       "        vertical-align: top;\n",
       "    }\n",
       "\n",
       "    .dataframe thead th {\n",
       "        text-align: right;\n",
       "    }\n",
       "</style>\n",
       "<table border=\"1\" class=\"dataframe\">\n",
       "  <thead>\n",
       "    <tr style=\"text-align: right;\">\n",
       "      <th></th>\n",
       "      <th>id</th>\n",
       "      <th>brand</th>\n",
       "      <th>cpu</th>\n",
       "      <th>cpu_GHz</th>\n",
       "      <th>cpu_brand</th>\n",
       "      <th>ram</th>\n",
       "      <th>scrsize</th>\n",
       "      <th>gpu</th>\n",
       "      <th>gpu_brand</th>\n",
       "      <th>memory</th>\n",
       "      <th>drive_type</th>\n",
       "      <th>opersystem</th>\n",
       "      <th>weight</th>\n",
       "      <th>since</th>\n",
       "      <th>shop</th>\n",
       "      <th>price</th>\n",
       "      <th>url</th>\n",
       "    </tr>\n",
       "  </thead>\n",
       "  <tbody>\n",
       "    <tr>\n",
       "      <th>0</th>\n",
       "      <td>0</td>\n",
       "      <td>ACER</td>\n",
       "      <td>Intel i7</td>\n",
       "      <td>4.6</td>\n",
       "      <td>Intel</td>\n",
       "      <td>8</td>\n",
       "      <td>15.6</td>\n",
       "      <td>NVIDIA GeForce RTX</td>\n",
       "      <td>NVIDIA</td>\n",
       "      <td>512</td>\n",
       "      <td>SDD</td>\n",
       "      <td>Window</td>\n",
       "      <td>2.2</td>\n",
       "      <td>2021</td>\n",
       "      <td>FPTShop</td>\n",
       "      <td>29999000</td>\n",
       "      <td>https://fptshop.com.vn/may-tinh-xach-tay/acer-...</td>\n",
       "    </tr>\n",
       "    <tr>\n",
       "      <th>1</th>\n",
       "      <td>1</td>\n",
       "      <td>MSI</td>\n",
       "      <td>Intel i5</td>\n",
       "      <td>4.5</td>\n",
       "      <td>Intel</td>\n",
       "      <td>8</td>\n",
       "      <td>14.0</td>\n",
       "      <td>Intel Iris</td>\n",
       "      <td>Intel</td>\n",
       "      <td>512</td>\n",
       "      <td>SDD</td>\n",
       "      <td>Window</td>\n",
       "      <td>1.3</td>\n",
       "      <td>2021</td>\n",
       "      <td>FPTShop</td>\n",
       "      <td>18799000</td>\n",
       "      <td>https://fptshop.com.vn/may-tinh-xach-tay/msi-m...</td>\n",
       "    </tr>\n",
       "    <tr>\n",
       "      <th>2</th>\n",
       "      <td>2</td>\n",
       "      <td>DELL</td>\n",
       "      <td>Intel i3</td>\n",
       "      <td>4.1</td>\n",
       "      <td>Intel</td>\n",
       "      <td>4</td>\n",
       "      <td>15.6</td>\n",
       "      <td>Intel UHD</td>\n",
       "      <td>Intel</td>\n",
       "      <td>256</td>\n",
       "      <td>SDD</td>\n",
       "      <td>Window</td>\n",
       "      <td>1.7</td>\n",
       "      <td>2021</td>\n",
       "      <td>FPTShop</td>\n",
       "      <td>15299000</td>\n",
       "      <td>https://fptshop.com.vn/may-tinh-xach-tay/dell-...</td>\n",
       "    </tr>\n",
       "    <tr>\n",
       "      <th>3</th>\n",
       "      <td>3</td>\n",
       "      <td>DELL</td>\n",
       "      <td>Intel i3</td>\n",
       "      <td>4.1</td>\n",
       "      <td>Intel</td>\n",
       "      <td>8</td>\n",
       "      <td>15.6</td>\n",
       "      <td>Intel UHD</td>\n",
       "      <td>Intel</td>\n",
       "      <td>256</td>\n",
       "      <td>SDD</td>\n",
       "      <td>Window</td>\n",
       "      <td>2.0</td>\n",
       "      <td>2021</td>\n",
       "      <td>FPTShop</td>\n",
       "      <td>15599000</td>\n",
       "      <td>https://fptshop.com.vn/may-tinh-xach-tay/dell-...</td>\n",
       "    </tr>\n",
       "    <tr>\n",
       "      <th>4</th>\n",
       "      <td>4</td>\n",
       "      <td>DELL</td>\n",
       "      <td>Intel i5</td>\n",
       "      <td>4.2</td>\n",
       "      <td>Intel</td>\n",
       "      <td>4</td>\n",
       "      <td>15.6</td>\n",
       "      <td>Intel Iris</td>\n",
       "      <td>Intel</td>\n",
       "      <td>512</td>\n",
       "      <td>SDD</td>\n",
       "      <td>Window</td>\n",
       "      <td>1.7</td>\n",
       "      <td>2021</td>\n",
       "      <td>FPTShop</td>\n",
       "      <td>19999000</td>\n",
       "      <td>https://fptshop.com.vn/may-tinh-xach-tay/dell-...</td>\n",
       "    </tr>\n",
       "  </tbody>\n",
       "</table>\n",
       "</div>"
      ],
      "text/plain": [
       "   id brand       cpu  cpu_GHz cpu_brand  ram  scrsize                 gpu  \\\n",
       "0   0  ACER  Intel i7      4.6     Intel    8     15.6  NVIDIA GeForce RTX   \n",
       "1   1   MSI  Intel i5      4.5     Intel    8     14.0          Intel Iris   \n",
       "2   2  DELL  Intel i3      4.1     Intel    4     15.6           Intel UHD   \n",
       "3   3  DELL  Intel i3      4.1     Intel    8     15.6           Intel UHD   \n",
       "4   4  DELL  Intel i5      4.2     Intel    4     15.6          Intel Iris   \n",
       "\n",
       "  gpu_brand  memory drive_type opersystem  weight  since     shop     price  \\\n",
       "0    NVIDIA     512        SDD     Window     2.2   2021  FPTShop  29999000   \n",
       "1     Intel     512        SDD     Window     1.3   2021  FPTShop  18799000   \n",
       "2     Intel     256        SDD     Window     1.7   2021  FPTShop  15299000   \n",
       "3     Intel     256        SDD     Window     2.0   2021  FPTShop  15599000   \n",
       "4     Intel     512        SDD     Window     1.7   2021  FPTShop  19999000   \n",
       "\n",
       "                                                 url  \n",
       "0  https://fptshop.com.vn/may-tinh-xach-tay/acer-...  \n",
       "1  https://fptshop.com.vn/may-tinh-xach-tay/msi-m...  \n",
       "2  https://fptshop.com.vn/may-tinh-xach-tay/dell-...  \n",
       "3  https://fptshop.com.vn/may-tinh-xach-tay/dell-...  \n",
       "4  https://fptshop.com.vn/may-tinh-xach-tay/dell-...  "
      ]
     },
     "execution_count": 2,
     "metadata": {},
     "output_type": "execute_result"
    }
   ],
   "source": [
    "# Import Data:\n",
    "df = pd.read_csv('laptop_clean.csv')\n",
    "df.head(5)"
   ]
  },
  {
   "cell_type": "code",
   "execution_count": 3,
   "id": "d62bf07a-b355-4ae7-8ec3-cf75cdcbeaec",
   "metadata": {
    "jupyter": {
     "source_hidden": true
    },
    "tags": []
   },
   "outputs": [
    {
     "name": "stdout",
     "output_type": "stream",
     "text": [
      "Có 9 biến định tính.\n",
      "Các biến định tính là : ['brand', 'cpu', 'cpu_brand', 'gpu', 'gpu_brand', 'drive_type', 'opersystem', 'shop', 'url']\n",
      "____________________\n",
      "Có 8 biến định lượng.\n",
      "Các biến định lượng là : ['id', 'cpu_GHz', 'ram', 'scrsize', 'memory', 'weight', 'since', 'price']\n"
     ]
    }
   ],
   "source": [
    "# Phân loại biến định tính:\n",
    "categorical = [var for var in df.columns if df[var].dtype=='O']\n",
    "print('Có {} biến định tính.'.format(len(categorical)))\n",
    "print('Các biến định tính là :', categorical)\n",
    "print('_'*20)\n",
    "\n",
    "# Phân loại biến định lượng:\n",
    "numerical = [var for var in df.columns if df[var].dtype!='O']\n",
    "print('Có {} biến định lượng.'.format(len(numerical)))\n",
    "print('Các biến định lượng là :', numerical)"
   ]
  },
  {
   "cell_type": "code",
   "execution_count": 4,
   "id": "28908b50-e7f5-42be-9e24-3fdbe3cc13c0",
   "metadata": {
    "jupyter": {
     "source_hidden": true
    },
    "tags": []
   },
   "outputs": [],
   "source": [
    "def results(p, vals=['mean1', 'mean2'], alpha=0.05):\n",
    "    cols=['score', 'p_value', 'KetLuan']\n",
    "    if p['p_value'] < alpha:\n",
    "        p['KetLuan'] = f\"Chấp nhận H1 với mức ý nghĩa {alpha}\"\n",
    "    if p['p_value'] >= alpha:\n",
    "        p['KetLuan'] = f\"Chấp nhận H0 với mức ý nghĩa {alpha}\"\n",
    "    df = pd.DataFrame(p, index=[''])\n",
    "    if vals: cols = vals + cols\n",
    "    return df[cols]"
   ]
  },
  {
   "cell_type": "code",
   "execution_count": 5,
   "id": "8df410c0-8fdc-4b0b-9685-d033f14e59ff",
   "metadata": {
    "jupyter": {
     "source_hidden": true
    },
    "tags": []
   },
   "outputs": [],
   "source": [
    "import statsmodels.api as sm\n",
    "#Hàm trực quan hóa dữ liệu\n",
    "def vis(data):\n",
    "    fig,axes = plt.subplots(nrows=1,ncols=2,figsize = (6,3))\n",
    "    sns.distplot(data, ax=axes[0], color='green')\n",
    "    plt.tight_layout()\n",
    "    \n",
    "    sm.qqplot(data,ax=axes[1], line='45')\n",
    "    plt.tight_layout()\n",
    "    fig.suptitle(data.name, size=18)\n",
    "\n",
    "#Hàm chuẩn hóa    \n",
    "def standadize(data):\n",
    "    mean = np.mean(data)\n",
    "    std = np.std(data)\n",
    "    return (data - mean)/std  "
   ]
  },
  {
   "cell_type": "code",
   "execution_count": 6,
   "id": "65f25bb7-5793-45f2-90f1-9b3245f8f0b0",
   "metadata": {
    "jupyter": {
     "source_hidden": true
    },
    "tags": []
   },
   "outputs": [],
   "source": [
    "# Hàm kiểm định Shapiro và đồ thị phân phối\n",
    "from scipy.stats import shapiro\n",
    "import statsmodels.api as sm\n",
    "def shapiro_test(data):\n",
    "    stat, p = shapiro(data)\n",
    "    print('Kiểm định Shapiro cho',data.name)\n",
    "    print('stat=%.3f, p=%.6f' % (stat, p))\n",
    "    if p < 0.05:\n",
    "        print('Không thể bác bỏ giả thiết H0: Phân phối của dữ liệu là chuẩn')\n",
    "        print('Đủ điều kiện để phân tích tiếp')\n",
    "    else:\n",
    "        print('Dữ liệu không tuân theo luật phân phối chuẩn')\n",
    "    print('-'*50)"
   ]
  },
  {
   "cell_type": "markdown",
   "id": "b03afeda-62c3-457a-b838-3f26f57f049f",
   "metadata": {
    "tags": []
   },
   "source": [
    "# Dùng kiểm định Anova để so sánh Giá giữa các Cửa hàng phân phối (shop)"
   ]
  },
  {
   "cell_type": "code",
   "execution_count": 7,
   "id": "88701906-2b52-4578-90e8-7faea5af1a0e",
   "metadata": {},
   "outputs": [
    {
     "data": {
      "image/png": "[encoded data removed]",
      "text/plain": [
       "<Figure size 1080x576 with 1 Axes>"
      ]
     },
     "metadata": {
      "needs_background": "light"
     },
     "output_type": "display_data"
    }
   ],
   "source": [
    "plt.figure(figsize=(15,8))\n",
    "g=sns.boxplot(x='shop', y='price', data=df, palette=['blue','cyan','red'])\n",
    "sns.swarmplot(x=\"shop\", y=\"price\", data=df, color='orange')\n",
    "plt.title('Laptop price by Shop', size=18)\n",
    "plt.xlabel('Shop',fontsize=15)\n",
    "plt.ylabel('Price',fontsize=15)\n",
    "plt.show()"
   ]
  },
  {
   "cell_type": "code",
   "execution_count": 8,
   "id": "13d15984-8754-4f5a-a3b2-a6b0bef301ce",
   "metadata": {
    "jupyter": {
     "source_hidden": true
    },
    "tags": []
   },
   "outputs": [],
   "source": [
    "shop = df[['shop','price']]\n",
    "g = df['price']\n",
    "grp = shop.groupby('shop').groups\n",
    "fpt = g[grp['FPTShop']]\n",
    "fpt.name='FPTShop'\n",
    "pv = g[grp['Phongvu']]\n",
    "pv.name='Phongvu'\n",
    "dmx = g[grp['Dienmayxanh']]\n",
    "dmx.name='Dienmayxanh'"
   ]
  },
  {
   "cell_type": "code",
   "execution_count": 9,
   "id": "28721377-2a47-4cd9-a654-22a4ab570598",
   "metadata": {
    "jupyter": {
     "source_hidden": true
    },
    "tags": []
   },
   "outputs": [],
   "source": [
    "# Lấy mẫu (n=30) và chuẩn hóa:\n",
    "fpt=standadize(fpt)\n",
    "dmx=standadize(dmx)\n",
    "pv=standadize(pv)"
   ]
  },
  {
   "cell_type": "markdown",
   "id": "525c1993-a6e7-4c3c-9994-e2f65337aac0",
   "metadata": {},
   "source": [
    "#### Sử dụng Shapiro-Wilk test để kiểm tra Phân phối của dữ liệu "
   ]
  },
  {
   "cell_type": "markdown",
   "id": "93da1a6f-81a5-4ac4-9b78-1f71b941d731",
   "metadata": {},
   "source": [
    "Phát biểu giả thiết:\n",
    "\n",
    "$H_0$: Phân phối của nhóm là chuẩn\n",
    "\n",
    "$H_1$: Phân phối của nhóm là không chuẩn"
   ]
  },
  {
   "cell_type": "code",
   "execution_count": 10,
   "id": "ebdaf8e4-4bc9-44de-bfc8-78b25c6d054a",
   "metadata": {},
   "outputs": [
    {
     "data": {
      "image/png": "[encoded data removed]",
      "text/plain": [
       "<Figure size 432x216 with 2 Axes>"
      ]
     },
     "metadata": {
      "needs_background": "light"
     },
     "output_type": "display_data"
    },
    {
     "data": {
      "image/png": "[encoded data removed]",
      "text/plain": [
       "<Figure size 432x216 with 2 Axes>"
      ]
     },
     "metadata": {
      "needs_background": "light"
     },
     "output_type": "display_data"
    },
    {
     "data": {
      "image/png": "[encoded data removed]",
      "text/plain": [
       "<Figure size 432x216 with 2 Axes>"
      ]
     },
     "metadata": {
      "needs_background": "light"
     },
     "output_type": "display_data"
    }
   ],
   "source": [
    "vis(fpt)\n",
    "vis(pv)\n",
    "vis(dmx)"
   ]
  },
  {
   "cell_type": "code",
   "execution_count": 11,
   "id": "d9a7726b-e4e9-46db-bb12-3a966d8a8a36",
   "metadata": {},
   "outputs": [
    {
     "name": "stdout",
     "output_type": "stream",
     "text": [
      "Kiểm định Shapiro cho FPTShop\n",
      "stat=0.959, p=0.000531\n",
      "Không thể bác bỏ giả thiết H0: Phân phối của dữ liệu là chuẩn\n",
      "Đủ điều kiện để phân tích tiếp\n",
      "--------------------------------------------------\n",
      "Kiểm định Shapiro cho Phongvu\n",
      "stat=0.831, p=0.000032\n",
      "Không thể bác bỏ giả thiết H0: Phân phối của dữ liệu là chuẩn\n",
      "Đủ điều kiện để phân tích tiếp\n",
      "--------------------------------------------------\n",
      "Kiểm định Shapiro cho Dienmayxanh\n",
      "stat=0.843, p=0.000000\n",
      "Không thể bác bỏ giả thiết H0: Phân phối của dữ liệu là chuẩn\n",
      "Đủ điều kiện để phân tích tiếp\n",
      "--------------------------------------------------\n"
     ]
    }
   ],
   "source": [
    "shapiro_test(fpt)\n",
    "shapiro_test(pv)\n",
    "shapiro_test(dmx)"
   ]
  },
  {
   "cell_type": "markdown",
   "id": "0b86c822-2aa8-48e6-a941-d8af9a9ad26b",
   "metadata": {},
   "source": [
    "#### Kiểm định tính thuần nhất phương sai (Bartlett’s Test)\n",
    "\n",
    "Phát biểu các giả thiết:\n",
    "\n",
    "$H_0$: Các nhóm đều có phương sai đồng nhất \n",
    "\n",
    "$H_1$: Có ít nhất 2 nhóm có phương sai khác nhau (lớn)"
   ]
  },
  {
   "cell_type": "code",
   "execution_count": 12,
   "id": "e73166f3-7a3e-45b1-bca4-9c65ade8f2a6",
   "metadata": {
    "tags": []
   },
   "outputs": [
    {
     "name": "stdout",
     "output_type": "stream",
     "text": [
      "BartlettResult(statistic=0.004815074822490079, pvalue=0.9975953583825714)\n",
      "Không thể bác bỏ giả thiết H0: Các nhóm đồng nhất về phương sai\n"
     ]
    }
   ],
   "source": [
    "from scipy.stats import bartlett\n",
    "bartlett = bartlett(fpt,dmx,pv)\n",
    "print(bartlett)\n",
    "if bartlett.pvalue > 0.05:\n",
    "    print('Không thể bác bỏ giả thiết H0: Các nhóm đồng nhất về phương sai')\n",
    "else:\n",
    "    print('Các nhóm không đồng nhất về phương sai')"
   ]
  },
  {
   "cell_type": "markdown",
   "id": "f2eb1d15-c114-4dea-9b87-4d6eec194b89",
   "metadata": {
    "tags": []
   },
   "source": [
    "### Kiểm định ANOVA\n",
    "\n",
    "Phát biểu giả thiết:\n",
    "\n",
    "- $H_0$: `Giá sản phẩm (price)` giữa các `Cửa hàng (shop)` không có sự khác biệt\n",
    "- $H_1$: `Giá sản phẩm (price)` giữa các `Cửa hàng (shop)` có sự khác biệt"
   ]
  },
  {
   "cell_type": "code",
   "execution_count": 13,
   "id": "0608d4e0-ece1-4c1c-9f4b-9bdcd7a50453",
   "metadata": {
    "jupyter": {
     "source_hidden": true
    },
    "tags": []
   },
   "outputs": [
    {
     "name": "stdout",
     "output_type": "stream",
     "text": [
      "F_onewayResult(statistic=1.0285388739512266e-30, pvalue=1.0)\n",
      "Không đủ bằng chứng bác bỏ giả thuyết H0. Điều này ngụ ý rằng:\n",
      " Giá sản phẩm (price) giữa các Cửa hàng (shop) không có sự khác biệt.\n"
     ]
    }
   ],
   "source": [
    "# Tiến hành phân tích ANOVA 1 chiều\n",
    "from scipy.stats import f_oneway\n",
    "anova = f_oneway(fpt,dmx,pv)\n",
    "print(anova)\n",
    "alpha = 0.05\n",
    "if (anova.pvalue < alpha):\n",
    "    print('Có bằng chứng bác bỏ giả thuyết H0. Điều này ngụ ý rằng Giá sản phẩm (price) giữa các Cửa hàng (shop) có sự khác biệt')\n",
    "else:\n",
    "    print('Không đủ bằng chứng bác bỏ giả thuyết H0. Điều này ngụ ý rằng:\\n Giá sản phẩm (price) giữa các Cửa hàng (shop) không có sự khác biệt.')"
   ]
  },
  {
   "cell_type": "markdown",
   "id": "c4fffab5-b37d-468d-bb3e-38a921e87533",
   "metadata": {},
   "source": [
    "***Kết luận:*** Về mặt thống kê, `Giá sản phẩm (price)` giữa các `Cửa hàng (shop)` không có sự khác biệt với mức ý nghĩa 5%.\n",
    "\n",
    "   - **Giữa các cửa hàng phân phối không có sự khác biệt quá lớn về giá cả.**\n",
    "   - **Không có sự độc quyền về giá ở thị trường laptop**\n",
    "   - **Nếu sản phẩm laptop mà bạn mong muốn bị hết hàng hoặc không có ở shop này\\\n",
    "   bạn có thể tìm kiếm ở shop khác mà vẫn yên tâm về giá cả**"
   ]
  },
  {
   "cell_type": "markdown",
   "id": "f5b7fbc5-da9d-478b-8683-a841f6651f65",
   "metadata": {},
   "source": [
    "---\n",
    "# Phân tích mối quan hệ giữa các biến"
   ]
  },
  {
   "cell_type": "markdown",
   "id": "dd491160-694b-4729-b123-a90b6010c232",
   "metadata": {},
   "source": [
    "## Ma trận hệ số tương quan"
   ]
  },
  {
   "cell_type": "code",
   "execution_count": 14,
   "id": "b8a00ead-cb09-4c3a-a2cb-518c3664f681",
   "metadata": {
    "tags": []
   },
   "outputs": [
    {
     "data": {
      "text/html": [
       "<div>\n",
       "<style scoped>\n",
       "    .dataframe tbody tr th:only-of-type {\n",
       "        vertical-align: middle;\n",
       "    }\n",
       "\n",
       "    .dataframe tbody tr th {\n",
       "        vertical-align: top;\n",
       "    }\n",
       "\n",
       "    .dataframe thead th {\n",
       "        text-align: right;\n",
       "    }\n",
       "</style>\n",
       "<table border=\"1\" class=\"dataframe\">\n",
       "  <thead>\n",
       "    <tr style=\"text-align: right;\">\n",
       "      <th></th>\n",
       "      <th>id</th>\n",
       "      <th>cpu_GHz</th>\n",
       "      <th>ram</th>\n",
       "      <th>scrsize</th>\n",
       "      <th>memory</th>\n",
       "      <th>weight</th>\n",
       "      <th>since</th>\n",
       "      <th>price</th>\n",
       "    </tr>\n",
       "  </thead>\n",
       "  <tbody>\n",
       "    <tr>\n",
       "      <th>id</th>\n",
       "      <td>1.000000</td>\n",
       "      <td>-0.411241</td>\n",
       "      <td>0.047324</td>\n",
       "      <td>-0.113216</td>\n",
       "      <td>0.275464</td>\n",
       "      <td>-0.170441</td>\n",
       "      <td>-0.212669</td>\n",
       "      <td>-0.020470</td>\n",
       "    </tr>\n",
       "    <tr>\n",
       "      <th>cpu_GHz</th>\n",
       "      <td>-0.411241</td>\n",
       "      <td>1.000000</td>\n",
       "      <td>0.093140</td>\n",
       "      <td>0.016351</td>\n",
       "      <td>-0.315072</td>\n",
       "      <td>-0.001243</td>\n",
       "      <td>0.084166</td>\n",
       "      <td>0.135903</td>\n",
       "    </tr>\n",
       "    <tr>\n",
       "      <th>ram</th>\n",
       "      <td>0.047324</td>\n",
       "      <td>0.093140</td>\n",
       "      <td>1.000000</td>\n",
       "      <td>-0.029363</td>\n",
       "      <td>0.409429</td>\n",
       "      <td>-0.048001</td>\n",
       "      <td>0.063276</td>\n",
       "      <td>0.783801</td>\n",
       "    </tr>\n",
       "    <tr>\n",
       "      <th>scrsize</th>\n",
       "      <td>-0.113216</td>\n",
       "      <td>0.016351</td>\n",
       "      <td>-0.029363</td>\n",
       "      <td>1.000000</td>\n",
       "      <td>0.170599</td>\n",
       "      <td>0.755016</td>\n",
       "      <td>0.303132</td>\n",
       "      <td>0.037228</td>\n",
       "    </tr>\n",
       "    <tr>\n",
       "      <th>memory</th>\n",
       "      <td>0.275464</td>\n",
       "      <td>-0.315072</td>\n",
       "      <td>0.409429</td>\n",
       "      <td>0.170599</td>\n",
       "      <td>1.000000</td>\n",
       "      <td>0.216019</td>\n",
       "      <td>0.285916</td>\n",
       "      <td>0.399240</td>\n",
       "    </tr>\n",
       "    <tr>\n",
       "      <th>weight</th>\n",
       "      <td>-0.170441</td>\n",
       "      <td>-0.001243</td>\n",
       "      <td>-0.048001</td>\n",
       "      <td>0.755016</td>\n",
       "      <td>0.216019</td>\n",
       "      <td>1.000000</td>\n",
       "      <td>0.291478</td>\n",
       "      <td>0.030639</td>\n",
       "    </tr>\n",
       "    <tr>\n",
       "      <th>since</th>\n",
       "      <td>-0.212669</td>\n",
       "      <td>0.084166</td>\n",
       "      <td>0.063276</td>\n",
       "      <td>0.303132</td>\n",
       "      <td>0.285916</td>\n",
       "      <td>0.291478</td>\n",
       "      <td>1.000000</td>\n",
       "      <td>0.020238</td>\n",
       "    </tr>\n",
       "    <tr>\n",
       "      <th>price</th>\n",
       "      <td>-0.020470</td>\n",
       "      <td>0.135903</td>\n",
       "      <td>0.783801</td>\n",
       "      <td>0.037228</td>\n",
       "      <td>0.399240</td>\n",
       "      <td>0.030639</td>\n",
       "      <td>0.020238</td>\n",
       "      <td>1.000000</td>\n",
       "    </tr>\n",
       "  </tbody>\n",
       "</table>\n",
       "</div>"
      ],
      "text/plain": [
       "               id   cpu_GHz       ram   scrsize    memory    weight     since  \\\n",
       "id       1.000000 -0.411241  0.047324 -0.113216  0.275464 -0.170441 -0.212669   \n",
       "cpu_GHz -0.411241  1.000000  0.093140  0.016351 -0.315072 -0.001243  0.084166   \n",
       "ram      0.047324  0.093140  1.000000 -0.029363  0.409429 -0.048001  0.063276   \n",
       "scrsize -0.113216  0.016351 -0.029363  1.000000  0.170599  0.755016  0.303132   \n",
       "memory   0.275464 -0.315072  0.409429  0.170599  1.000000  0.216019  0.285916   \n",
       "weight  -0.170441 -0.001243 -0.048001  0.755016  0.216019  1.000000  0.291478   \n",
       "since   -0.212669  0.084166  0.063276  0.303132  0.285916  0.291478  1.000000   \n",
       "price   -0.020470  0.135903  0.783801  0.037228  0.399240  0.030639  0.020238   \n",
       "\n",
       "            price  \n",
       "id      -0.020470  \n",
       "cpu_GHz  0.135903  \n",
       "ram      0.783801  \n",
       "scrsize  0.037228  \n",
       "memory   0.399240  \n",
       "weight   0.030639  \n",
       "since    0.020238  \n",
       "price    1.000000  "
      ]
     },
     "execution_count": 14,
     "metadata": {},
     "output_type": "execute_result"
    }
   ],
   "source": [
    "df =df.sort_values(by='price')\n",
    "corr = df[numerical].corr(method = \"pearson\")\n",
    "corr"
   ]
  },
  {
   "cell_type": "code",
   "execution_count": 15,
   "id": "4ac1a419-271d-4374-934f-6f72cbf59046",
   "metadata": {
    "jupyter": {
     "source_hidden": true
    },
    "tags": []
   },
   "outputs": [
    {
     "data": {
      "image/png": "[encoded data removed]",
      "text/plain": [
       "<Figure size 720x720 with 2 Axes>"
      ]
     },
     "metadata": {},
     "output_type": "display_data"
    }
   ],
   "source": [
    "mask = np.zeros_like(corr)\n",
    "mask[np.triu_indices_from(mask)] = True\n",
    "with sns.axes_style(\"white\"):\n",
    "    f, ax = plt.subplots(figsize=(10, 10))\n",
    "    ax=sns.heatmap(corr, annot=True, mask=mask, cmap='Oranges', linewidths=0.5, linecolor='white')"
   ]
  },
  {
   "cell_type": "markdown",
   "id": "f9a799d7-94e5-4846-b0a4-e207c6d2e637",
   "metadata": {},
   "source": [
    "**Ta có 2 giả thuyết**\n",
    "- `RAM` là yếu tố ảnh hưởng rất lớn đến `Giá sản phẩm (price)` (tỷ lệ thuận)\n",
    "- Giữa 'Kích thước màn hình (scrsize)` và ` Trọng lượng (weight)` có mối liên hệ với nhau ( tỷ lệ thuận )\n",
    "\n",
    "***Sử dụng kiểm định Chisquare để kiểm định 2 giả thuyết trên***"
   ]
  },
  {
   "cell_type": "markdown",
   "id": "037bd3be-35fb-4ae6-886d-a6ee94f4483e",
   "metadata": {
    "tags": []
   },
   "source": [
    "---\n",
    "## Chisquare"
   ]
  },
  {
   "cell_type": "code",
   "execution_count": 17,
   "id": "b5435b8b-b5b9-4a77-ad0c-6d01b43e0754",
   "metadata": {
    "jupyter": {
     "source_hidden": true
    },
    "tags": []
   },
   "outputs": [],
   "source": [
    "def results(p, alpha=0.05):\n",
    "    cols=['score', 'p_value', 'dof', 'KetLuan']\n",
    "    if p['p_value'] < alpha:\n",
    "        p['KetLuan'] = f\"Chấp nhận H1 với mức ý nghĩa {alpha}\"\n",
    "    if p['p_value'] >= alpha:\n",
    "        p['KetLuan'] = f\"Chấp nhận H0 với mức ý nghĩa {alpha}\"\n",
    "    df = pd.DataFrame(p, index=[''])\n",
    "    return df[cols]"
   ]
  },
  {
   "cell_type": "markdown",
   "id": "e2346ee1-f4b7-48f8-aef0-889dd5278beb",
   "metadata": {},
   "source": [
    "**Dùng kiểm định Chi2 để nghiên cứu sự ảnh hưởng của `RAM (ram)` đến `Giá sản phẩm (price)`.**\n",
    "\n",
    "Phát biểu giả thiết:\n",
    "\n",
    "- $H_0$: biến `RAM (ram)` biến `Giá sản phẩm (price)` là 2 biến độc lập.\n",
    "- $H_1$: biến `RAM (ram)` ảnh hưởng đến biến `Giá sản phẩm (price)` .\n"
   ]
  },
  {
   "cell_type": "code",
   "execution_count": 18,
   "id": "d38063bf-f320-4852-b246-335968096dc1",
   "metadata": {},
   "outputs": [
    {
     "data": {
      "text/plain": [
       "8     171\n",
       "16     77\n",
       "4      22\n",
       "32      3\n",
       "Name: ram, dtype: int64"
      ]
     },
     "execution_count": 18,
     "metadata": {},
     "output_type": "execute_result"
    }
   ],
   "source": [
    "df['ram'].value_counts()"
   ]
  },
  {
   "cell_type": "markdown",
   "id": "8db7c4d4-8a2a-4a9c-bf9c-f2d307ecafd1",
   "metadata": {},
   "source": [
    "Vì chỉ có 3 sản phẩm laptop có RAM 32GB nên\\\n",
    "chúng ta sẽ label chung với những laptop có ram 16GB thành `16GB trở lên`"
   ]
  },
  {
   "cell_type": "code",
   "execution_count": 19,
   "id": "655d2069-902f-4c08-87ff-51657b2a9448",
   "metadata": {
    "jupyter": {
     "source_hidden": true
    },
    "tags": []
   },
   "outputs": [
    {
     "data": {
      "text/html": [
       "<div>\n",
       "<style scoped>\n",
       "    .dataframe tbody tr th:only-of-type {\n",
       "        vertical-align: middle;\n",
       "    }\n",
       "\n",
       "    .dataframe tbody tr th {\n",
       "        vertical-align: top;\n",
       "    }\n",
       "\n",
       "    .dataframe thead th {\n",
       "        text-align: right;\n",
       "    }\n",
       "</style>\n",
       "<table border=\"1\" class=\"dataframe\">\n",
       "  <thead>\n",
       "    <tr style=\"text-align: right;\">\n",
       "      <th></th>\n",
       "      <th>ram</th>\n",
       "      <th>price</th>\n",
       "      <th>price_n</th>\n",
       "    </tr>\n",
       "  </thead>\n",
       "  <tbody>\n",
       "    <tr>\n",
       "      <th>260</th>\n",
       "      <td>4GB</td>\n",
       "      <td>9490000</td>\n",
       "      <td>dưới 20tr</td>\n",
       "    </tr>\n",
       "    <tr>\n",
       "      <th>132</th>\n",
       "      <td>4GB</td>\n",
       "      <td>9699000</td>\n",
       "      <td>dưới 20tr</td>\n",
       "    </tr>\n",
       "    <tr>\n",
       "      <th>131</th>\n",
       "      <td>4GB</td>\n",
       "      <td>10499000</td>\n",
       "      <td>dưới 20tr</td>\n",
       "    </tr>\n",
       "    <tr>\n",
       "      <th>14</th>\n",
       "      <td>4GB</td>\n",
       "      <td>10999000</td>\n",
       "      <td>dưới 20tr</td>\n",
       "    </tr>\n",
       "    <tr>\n",
       "      <th>130</th>\n",
       "      <td>4GB</td>\n",
       "      <td>10999000</td>\n",
       "      <td>dưới 20tr</td>\n",
       "    </tr>\n",
       "    <tr>\n",
       "      <th>...</th>\n",
       "      <td>...</td>\n",
       "      <td>...</td>\n",
       "      <td>...</td>\n",
       "    </tr>\n",
       "    <tr>\n",
       "      <th>150</th>\n",
       "      <td>16GB trở lên</td>\n",
       "      <td>56990000</td>\n",
       "      <td>trên 30tr</td>\n",
       "    </tr>\n",
       "    <tr>\n",
       "      <th>149</th>\n",
       "      <td>16GB trở lên</td>\n",
       "      <td>58190000</td>\n",
       "      <td>trên 30tr</td>\n",
       "    </tr>\n",
       "    <tr>\n",
       "      <th>148</th>\n",
       "      <td>16GB trở lên</td>\n",
       "      <td>62490000</td>\n",
       "      <td>trên 30tr</td>\n",
       "    </tr>\n",
       "    <tr>\n",
       "      <th>146</th>\n",
       "      <td>16GB trở lên</td>\n",
       "      <td>75190000</td>\n",
       "      <td>trên 30tr</td>\n",
       "    </tr>\n",
       "    <tr>\n",
       "      <th>256</th>\n",
       "      <td>16GB trở lên</td>\n",
       "      <td>76990000</td>\n",
       "      <td>trên 30tr</td>\n",
       "    </tr>\n",
       "  </tbody>\n",
       "</table>\n",
       "<p>273 rows × 3 columns</p>\n",
       "</div>"
      ],
      "text/plain": [
       "              ram     price    price_n\n",
       "260           4GB   9490000  dưới 20tr\n",
       "132           4GB   9699000  dưới 20tr\n",
       "131           4GB  10499000  dưới 20tr\n",
       "14            4GB  10999000  dưới 20tr\n",
       "130           4GB  10999000  dưới 20tr\n",
       "..            ...       ...        ...\n",
       "150  16GB trở lên  56990000  trên 30tr\n",
       "149  16GB trở lên  58190000  trên 30tr\n",
       "148  16GB trở lên  62490000  trên 30tr\n",
       "146  16GB trở lên  75190000  trên 30tr\n",
       "256  16GB trở lên  76990000  trên 30tr\n",
       "\n",
       "[273 rows x 3 columns]"
      ]
     },
     "execution_count": 19,
     "metadata": {},
     "output_type": "execute_result"
    }
   ],
   "source": [
    "bins = [0, 5, 10, 40]\n",
    "bins1 = [0, 20000001 , 30000001 , 100000000]\n",
    "new = df[['ram','price']]\n",
    "new['ram'] = pd.cut(new['ram'], bins, labels = ['4GB', '8GB', '16GB trở lên'])\n",
    "new['price_n'] = pd.cut(new['price'], bins1, labels = ['dưới 20tr', '20-30tr', 'trên 30tr'])\n",
    "new"
   ]
  },
  {
   "cell_type": "code",
   "execution_count": 20,
   "id": "c2e9bc77-7266-48c3-8646-65b36c20cb68",
   "metadata": {},
   "outputs": [
    {
     "data": {
      "text/html": [
       "<div>\n",
       "<style scoped>\n",
       "    .dataframe tbody tr th:only-of-type {\n",
       "        vertical-align: middle;\n",
       "    }\n",
       "\n",
       "    .dataframe tbody tr th {\n",
       "        vertical-align: top;\n",
       "    }\n",
       "\n",
       "    .dataframe thead th {\n",
       "        text-align: right;\n",
       "    }\n",
       "</style>\n",
       "<table border=\"1\" class=\"dataframe\">\n",
       "  <thead>\n",
       "    <tr style=\"text-align: right;\">\n",
       "      <th>price_n</th>\n",
       "      <th>dưới 20tr</th>\n",
       "      <th>20-30tr</th>\n",
       "      <th>trên 30tr</th>\n",
       "    </tr>\n",
       "    <tr>\n",
       "      <th>ram</th>\n",
       "      <th></th>\n",
       "      <th></th>\n",
       "      <th></th>\n",
       "    </tr>\n",
       "  </thead>\n",
       "  <tbody>\n",
       "    <tr>\n",
       "      <th>4GB</th>\n",
       "      <td>21</td>\n",
       "      <td>1</td>\n",
       "      <td>0</td>\n",
       "    </tr>\n",
       "    <tr>\n",
       "      <th>8GB</th>\n",
       "      <td>43</td>\n",
       "      <td>108</td>\n",
       "      <td>20</td>\n",
       "    </tr>\n",
       "    <tr>\n",
       "      <th>16GB trở lên</th>\n",
       "      <td>2</td>\n",
       "      <td>22</td>\n",
       "      <td>56</td>\n",
       "    </tr>\n",
       "  </tbody>\n",
       "</table>\n",
       "</div>"
      ],
      "text/plain": [
       "price_n       dưới 20tr  20-30tr  trên 30tr\n",
       "ram                                        \n",
       "4GB                  21        1          0\n",
       "8GB                  43      108         20\n",
       "16GB trở lên          2       22         56"
      ]
     },
     "execution_count": 20,
     "metadata": {},
     "output_type": "execute_result"
    }
   ],
   "source": [
    "ram = pd.crosstab(index=new['ram'], columns=new['price_n'])\n",
    "ram"
   ]
  },
  {
   "cell_type": "code",
   "execution_count": 21,
   "id": "f7f50ef6-a020-4c76-abf3-55123aa45d98",
   "metadata": {
    "jupyter": {
     "source_hidden": true
    },
    "tags": []
   },
   "outputs": [
    {
     "data": {
      "text/plain": [
       "Text(0, 0.5, '')"
      ]
     },
     "execution_count": 21,
     "metadata": {},
     "output_type": "execute_result"
    },
    {
     "data": {
      "image/png": "[encoded data removed]",
      "text/plain": [
       "<Figure size 720x432 with 1 Axes>"
      ]
     },
     "metadata": {},
     "output_type": "display_data"
    }
   ],
   "source": [
    "a=pd.DataFrame(new[new['ram']=='4GB'][['ram','price_n']].value_counts())\n",
    "plot=a.reset_index()\n",
    "a=pd.DataFrame(new[new['ram']=='8GB'][['ram','price_n']].value_counts()).reset_index()\n",
    "plot=pd.concat([plot,a])\n",
    "a=pd.DataFrame(new[new['ram']=='16GB trở lên'][['ram','price_n']].value_counts()).reset_index()\n",
    "plt.figure(figsize=(10,6))\n",
    "plot=pd.concat([plot,a])\n",
    "sns.barplot(x=\"ram\", y=plot[0], hue=\"price_n\", data=plot,palette=['blue','violet','red'])\n",
    "plt.title('Thống kê mức giá theo dung lượng RAM', size=18)\n",
    "plt.ylabel('')"
   ]
  },
  {
   "cell_type": "code",
   "execution_count": 22,
   "id": "87ff0b4c-bf43-4ccd-8fa0-c336479a23b7",
   "metadata": {},
   "outputs": [
    {
     "data": {
      "text/html": [
       "<div>\n",
       "<style scoped>\n",
       "    .dataframe tbody tr th:only-of-type {\n",
       "        vertical-align: middle;\n",
       "    }\n",
       "\n",
       "    .dataframe tbody tr th {\n",
       "        vertical-align: top;\n",
       "    }\n",
       "\n",
       "    .dataframe thead th {\n",
       "        text-align: right;\n",
       "    }\n",
       "</style>\n",
       "<table border=\"1\" class=\"dataframe\">\n",
       "  <thead>\n",
       "    <tr style=\"text-align: right;\">\n",
       "      <th></th>\n",
       "      <th>score</th>\n",
       "      <th>p_value</th>\n",
       "      <th>dof</th>\n",
       "      <th>KetLuan</th>\n",
       "    </tr>\n",
       "  </thead>\n",
       "  <tbody>\n",
       "    <tr>\n",
       "      <th></th>\n",
       "      <td>158.912558</td>\n",
       "      <td>2.501131e-33</td>\n",
       "      <td>4</td>\n",
       "      <td>Chấp nhận H1 với mức ý nghĩa 0.05</td>\n",
       "    </tr>\n",
       "  </tbody>\n",
       "</table>\n",
       "</div>"
      ],
      "text/plain": [
       "       score       p_value  dof                            KetLuan\n",
       "  158.912558  2.501131e-33    4  Chấp nhận H1 với mức ý nghĩa 0.05"
      ]
     },
     "execution_count": 22,
     "metadata": {},
     "output_type": "execute_result"
    }
   ],
   "source": [
    "from scipy import stats as st # Kiểm định thống kê\n",
    "score, p_value, dof, expected = st.chi2_contingency(ram)\n",
    "p = {}\n",
    "p['score'] = score\n",
    "p['p_value'] = p_value\n",
    "p['dof'] = dof\n",
    "results(p)"
   ]
  },
  {
   "cell_type": "markdown",
   "id": "8049fe5a-7b74-409c-8098-8ce060412d99",
   "metadata": {},
   "source": [
    "***Kết luận:*** Về mặt thống kê, `Dung lượng RAM (ram)` ảnh hưởng đến biến `Giá sản phẩm (price)` . với mức ý nghĩa 5%.\n",
    "\n",
    "> Điều này chứng tỏ: Laptop càng nhiều dung lượng RAM sẽ có giá thành càng cao."
   ]
  },
  {
   "cell_type": "markdown",
   "id": "b845eff9-d59e-45b6-a6b6-0f5048c62589",
   "metadata": {},
   "source": [
    "---\n",
    "**Dùng kiểm định Chi2 để nghiên cứu sự ảnh hưởng của `Kích thước (scrsize)` đến `Cân nặng (weight)`.**\n",
    "\n",
    "Phát biểu giả thiết:\n",
    "\n",
    "- $H_0$: biến `Kích thước màn hình (scrsize)` biến `Cân nặng (weight)` là 2 biến độc lập.\n",
    "- $H_1$: biến `Kích thước màn hình (scrsize)` ảnh hưởng đến biến `Cân nặng (weight)` .\n"
   ]
  },
  {
   "cell_type": "code",
   "execution_count": 23,
   "id": "e55543b4-a47a-4997-9c6e-6303d770207f",
   "metadata": {
    "jupyter": {
     "source_hidden": true
    },
    "tags": []
   },
   "outputs": [
    {
     "data": {
      "text/html": [
       "<div>\n",
       "<style scoped>\n",
       "    .dataframe tbody tr th:only-of-type {\n",
       "        vertical-align: middle;\n",
       "    }\n",
       "\n",
       "    .dataframe tbody tr th {\n",
       "        vertical-align: top;\n",
       "    }\n",
       "\n",
       "    .dataframe thead th {\n",
       "        text-align: right;\n",
       "    }\n",
       "</style>\n",
       "<table border=\"1\" class=\"dataframe\">\n",
       "  <thead>\n",
       "    <tr style=\"text-align: right;\">\n",
       "      <th></th>\n",
       "      <th>weight</th>\n",
       "      <th>scrsize</th>\n",
       "      <th>scrsize_n</th>\n",
       "      <th>weight_n</th>\n",
       "    </tr>\n",
       "  </thead>\n",
       "  <tbody>\n",
       "    <tr>\n",
       "      <th>260</th>\n",
       "      <td>1.2</td>\n",
       "      <td>11.6</td>\n",
       "      <td>&lt;14inch</td>\n",
       "      <td>light</td>\n",
       "    </tr>\n",
       "    <tr>\n",
       "      <th>132</th>\n",
       "      <td>1.4</td>\n",
       "      <td>11.6</td>\n",
       "      <td>&lt;14inch</td>\n",
       "      <td>light</td>\n",
       "    </tr>\n",
       "    <tr>\n",
       "      <th>131</th>\n",
       "      <td>1.4</td>\n",
       "      <td>11.6</td>\n",
       "      <td>&lt;14inch</td>\n",
       "      <td>light</td>\n",
       "    </tr>\n",
       "    <tr>\n",
       "      <th>14</th>\n",
       "      <td>1.7</td>\n",
       "      <td>15.6</td>\n",
       "      <td>&gt;14inch</td>\n",
       "      <td>normal</td>\n",
       "    </tr>\n",
       "    <tr>\n",
       "      <th>130</th>\n",
       "      <td>1.7</td>\n",
       "      <td>15.6</td>\n",
       "      <td>&gt;14inch</td>\n",
       "      <td>normal</td>\n",
       "    </tr>\n",
       "    <tr>\n",
       "      <th>...</th>\n",
       "      <td>...</td>\n",
       "      <td>...</td>\n",
       "      <td>...</td>\n",
       "      <td>...</td>\n",
       "    </tr>\n",
       "    <tr>\n",
       "      <th>150</th>\n",
       "      <td>1.3</td>\n",
       "      <td>13.4</td>\n",
       "      <td>&lt;14inch</td>\n",
       "      <td>light</td>\n",
       "    </tr>\n",
       "    <tr>\n",
       "      <th>149</th>\n",
       "      <td>2.4</td>\n",
       "      <td>15.6</td>\n",
       "      <td>&gt;14inch</td>\n",
       "      <td>heavy</td>\n",
       "    </tr>\n",
       "    <tr>\n",
       "      <th>148</th>\n",
       "      <td>2.1</td>\n",
       "      <td>15.6</td>\n",
       "      <td>&gt;14inch</td>\n",
       "      <td>heavy</td>\n",
       "    </tr>\n",
       "    <tr>\n",
       "      <th>146</th>\n",
       "      <td>2.4</td>\n",
       "      <td>15.6</td>\n",
       "      <td>&gt;14inch</td>\n",
       "      <td>heavy</td>\n",
       "    </tr>\n",
       "    <tr>\n",
       "      <th>256</th>\n",
       "      <td>1.3</td>\n",
       "      <td>13.4</td>\n",
       "      <td>&lt;14inch</td>\n",
       "      <td>light</td>\n",
       "    </tr>\n",
       "  </tbody>\n",
       "</table>\n",
       "<p>273 rows × 4 columns</p>\n",
       "</div>"
      ],
      "text/plain": [
       "     weight  scrsize scrsize_n weight_n\n",
       "260     1.2     11.6   <14inch    light\n",
       "132     1.4     11.6   <14inch    light\n",
       "131     1.4     11.6   <14inch    light\n",
       "14      1.7     15.6   >14inch   normal\n",
       "130     1.7     15.6   >14inch   normal\n",
       "..      ...      ...       ...      ...\n",
       "150     1.3     13.4   <14inch    light\n",
       "149     2.4     15.6   >14inch    heavy\n",
       "148     2.1     15.6   >14inch    heavy\n",
       "146     2.4     15.6   >14inch    heavy\n",
       "256     1.3     13.4   <14inch    light\n",
       "\n",
       "[273 rows x 4 columns]"
      ]
     },
     "execution_count": 23,
     "metadata": {},
     "output_type": "execute_result"
    }
   ],
   "source": [
    "bins = [0, 13.9, 14.5, 20]\n",
    "bins1 = [0, 1.49 , 1.8 , 10]\n",
    "new = df[['weight','scrsize']]\n",
    "new['scrsize_n'] = pd.cut(new['scrsize'], bins, labels = ['<14inch', '14inch', '>14inch'])\n",
    "new['weight_n'] = pd.cut(new['weight'], bins1, labels = ['light', 'normal', 'heavy'])\n",
    "new"
   ]
  },
  {
   "cell_type": "code",
   "execution_count": 24,
   "id": "9f9f3a5b-93d6-4154-a3b1-3818124009b0",
   "metadata": {
    "jupyter": {
     "source_hidden": true
    },
    "tags": []
   },
   "outputs": [
    {
     "data": {
      "text/html": [
       "<div>\n",
       "<style scoped>\n",
       "    .dataframe tbody tr th:only-of-type {\n",
       "        vertical-align: middle;\n",
       "    }\n",
       "\n",
       "    .dataframe tbody tr th {\n",
       "        vertical-align: top;\n",
       "    }\n",
       "\n",
       "    .dataframe thead th {\n",
       "        text-align: right;\n",
       "    }\n",
       "</style>\n",
       "<table border=\"1\" class=\"dataframe\">\n",
       "  <thead>\n",
       "    <tr style=\"text-align: right;\">\n",
       "      <th>weight_n</th>\n",
       "      <th>light</th>\n",
       "      <th>normal</th>\n",
       "      <th>heavy</th>\n",
       "    </tr>\n",
       "    <tr>\n",
       "      <th>scrsize_n</th>\n",
       "      <th></th>\n",
       "      <th></th>\n",
       "      <th></th>\n",
       "    </tr>\n",
       "  </thead>\n",
       "  <tbody>\n",
       "    <tr>\n",
       "      <th>&lt;14inch</th>\n",
       "      <td>40</td>\n",
       "      <td>0</td>\n",
       "      <td>0</td>\n",
       "    </tr>\n",
       "    <tr>\n",
       "      <th>14inch</th>\n",
       "      <td>46</td>\n",
       "      <td>27</td>\n",
       "      <td>2</td>\n",
       "    </tr>\n",
       "    <tr>\n",
       "      <th>&gt;14inch</th>\n",
       "      <td>6</td>\n",
       "      <td>54</td>\n",
       "      <td>98</td>\n",
       "    </tr>\n",
       "  </tbody>\n",
       "</table>\n",
       "</div>"
      ],
      "text/plain": [
       "weight_n   light  normal  heavy\n",
       "scrsize_n                      \n",
       "<14inch       40       0      0\n",
       "14inch        46      27      2\n",
       ">14inch        6      54     98"
      ]
     },
     "execution_count": 24,
     "metadata": {},
     "output_type": "execute_result"
    }
   ],
   "source": [
    "kg_inch = pd.crosstab(index=new['scrsize_n'], columns=new['weight_n'])\n",
    "kg_inch"
   ]
  },
  {
   "cell_type": "code",
   "execution_count": 25,
   "id": "20585a55-8984-459d-b310-3aebb2a48d47",
   "metadata": {
    "jupyter": {
     "source_hidden": true
    },
    "tags": []
   },
   "outputs": [
    {
     "data": {
      "text/plain": [
       "Text(0, 0.5, '')"
      ]
     },
     "execution_count": 25,
     "metadata": {},
     "output_type": "execute_result"
    },
    {
     "data": {
      "image/png": "[encoded data removed]",
      "text/plain": [
       "<Figure size 720x432 with 1 Axes>"
      ]
     },
     "metadata": {},
     "output_type": "display_data"
    }
   ],
   "source": [
    "a=pd.DataFrame(new[new['scrsize_n']=='<14inch'][['scrsize_n','weight_n']].value_counts())\n",
    "plot=a.reset_index()\n",
    "a=pd.DataFrame(new[new['scrsize_n']=='14inch'][['scrsize_n','weight_n']].value_counts()).reset_index()\n",
    "plot=pd.concat([plot,a])\n",
    "a=pd.DataFrame(new[new['scrsize_n']=='>14inch'][['scrsize_n','weight_n']].value_counts()).reset_index()\n",
    "plt.figure(figsize=(10,6))\n",
    "plot=pd.concat([plot,a])\n",
    "sns.barplot(x=\"scrsize_n\", y=plot[0], hue=\"weight_n\", data=plot,palette=['blue','violet','red'])\n",
    "plt.title('Thống kê Kích thước màn hình theo cân nặng', size=18)\n",
    "plt.ylabel('')"
   ]
  },
  {
   "cell_type": "code",
   "execution_count": 26,
   "id": "556a8f8b-8548-48ae-aa53-ab38206ad662",
   "metadata": {},
   "outputs": [
    {
     "data": {
      "text/html": [
       "<div>\n",
       "<style scoped>\n",
       "    .dataframe tbody tr th:only-of-type {\n",
       "        vertical-align: middle;\n",
       "    }\n",
       "\n",
       "    .dataframe tbody tr th {\n",
       "        vertical-align: top;\n",
       "    }\n",
       "\n",
       "    .dataframe thead th {\n",
       "        text-align: right;\n",
       "    }\n",
       "</style>\n",
       "<table border=\"1\" class=\"dataframe\">\n",
       "  <thead>\n",
       "    <tr style=\"text-align: right;\">\n",
       "      <th></th>\n",
       "      <th>score</th>\n",
       "      <th>p_value</th>\n",
       "      <th>dof</th>\n",
       "      <th>KetLuan</th>\n",
       "    </tr>\n",
       "  </thead>\n",
       "  <tbody>\n",
       "    <tr>\n",
       "      <th></th>\n",
       "      <td>191.14243</td>\n",
       "      <td>3.011594e-40</td>\n",
       "      <td>4</td>\n",
       "      <td>Chấp nhận H1 với mức ý nghĩa 0.05</td>\n",
       "    </tr>\n",
       "  </tbody>\n",
       "</table>\n",
       "</div>"
      ],
      "text/plain": [
       "      score       p_value  dof                            KetLuan\n",
       "  191.14243  3.011594e-40    4  Chấp nhận H1 với mức ý nghĩa 0.05"
      ]
     },
     "execution_count": 26,
     "metadata": {},
     "output_type": "execute_result"
    }
   ],
   "source": [
    "from scipy import stats as st # Kiểm định thống kê\n",
    "score, p_value, dof, expected = st.chi2_contingency(kg_inch)\n",
    "p = {}\n",
    "p['score'] = score\n",
    "p['p_value'] = p_value\n",
    "p['dof'] = dof\n",
    "results(p)"
   ]
  },
  {
   "cell_type": "markdown",
   "id": "ca4cf966-11ca-4dd7-b954-568ab25d98ae",
   "metadata": {},
   "source": [
    "***Kết luận:*** Về mặt thống kê, biến `Kích thước màn hình (scrsize)` ảnh hưởng đến biến `Cân nặng (weight)` . với mức ý nghĩa 5%.\n",
    "> Điều này chứng tỏ Kích thước màn hình càng lớn, thì laptop càng nặng"
   ]
  },
  {
   "cell_type": "code",
   "execution_count": null,
   "id": "76656297-dc5c-4a40-b3a2-8af52a9054c0",
   "metadata": {},
   "outputs": [],
   "source": []
  }
 ],
 "metadata": {
  "kernelspec": {
   "display_name": "Python 3 (ipykernel)",
   "language": "python",
   "name": "python3"
  },
  "language_info": {
   "codemirror_mode": {
    "name": "ipython",
    "version": 3
   },
   "file_extension": ".py",
   "mimetype": "text/x-python",
   "name": "python",
   "nbconvert_exporter": "python",
   "pygments_lexer": "ipython3",
   "version": "3.9.7"
  }
 },
 "nbformat": 4,
 "nbformat_minor": 5
}
